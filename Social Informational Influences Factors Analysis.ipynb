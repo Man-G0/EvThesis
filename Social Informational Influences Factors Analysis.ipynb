{
 "cells": [
  {
   "cell_type": "markdown",
   "id": "d8d9c74e",
   "metadata": {},
   "source": [
    "# Social and Informational Influences\n",
    "\n",
    "This section explores how social context and information sources shape the adoption of electric vehicles (EVs) in France. Survey data was analyzed to understand the relationships between:\n",
    "\n",
    "- **Peer influence**  \n",
    "  (Number of EV users in the respondent’s social circle, discussions about EVs, encouragement or discouragement from peers, Perceived opinion of peers, Impact of peer exchanges)\n",
    "- **Clarity and trust in information sources**  \n",
    "  (Perceived clarity and reliability of information about EVs, Main information sources)\n",
    "- **Brand communication**  \n",
    "  (Brands perceived as offering clear and well-communicated EV options)\n",
    "- **Sociodemographic effects**  \n",
    "  (Influence of age, professional status, and geographic location on adoption intent)"
   ]
  },
  {
   "cell_type": "markdown",
   "id": "115184b5",
   "metadata": {},
   "source": [
    "## Setup"
   ]
  },
  {
   "cell_type": "code",
   "execution_count": 16,
   "id": "0ceea075",
   "metadata": {},
   "outputs": [],
   "source": [
    "import pandas as pd\n",
    "import matplotlib.pyplot as plt\n",
    "import seaborn as sns\n",
    "import numpy as np\n",
    "import scipy\n",
    "import statsmodels.api as sm\n",
    "from sklearn.cluster import KMeans\n",
    "from sklearn.preprocessing import StandardScaler\n",
    "import scipy.stats as stats\n",
    "from scipy.stats import chi2_contingency\n",
    "import re\n",
    "from scipy.stats import kruskal\n",
    "import pandas as pd\n",
    "from scipy.stats import f_oneway\n",
    "from scipy.stats import spearmanr\n",
    "from IPython.display import display\n",
    "from scipy.stats import pearsonr\n",
    "from wordcloud import WordCloud, STOPWORDS\n",
    "from scipy.stats import ttest_ind, f_oneway"
   ]
  },
  {
   "cell_type": "code",
   "execution_count": 17,
   "id": "7abb5fbb",
   "metadata": {},
   "outputs": [],
   "source": [
    "def extract_after_newline_parentheses(col):\n",
    "    match = re.search(r'\\n\\s*\\((.*?)\\)', col)\n",
    "    if match:\n",
    "        return match.group(1)\n",
    "    match = re.search(r'\\(([^()]*(?:\\([^)]*\\)[^()]*)*)\\)\\s*$', col)\n",
    "    if match:\n",
    "        return match.group(1)\n",
    "    return None\n",
    "\n",
    "def extract_before_newline_parentheses(col):\n",
    "    match = re.search(r'^(.*?)\\s*\\n', col)\n",
    "    if match:\n",
    "        return match.group(1)\n",
    "    match = re.search(r'^(.*?)\\s*\\(', col)\n",
    "    if match:\n",
    "        return match.group(1)\n",
    "    return col\n",
    "def get_labels_and_title(cols):\n",
    "    labels = [extract_after_newline_parentheses(col) for col in cols]\n",
    "    title = extract_before_newline_parentheses(cols[0])\n",
    "    return labels, title\n",
    "\n"
   ]
  },
  {
   "cell_type": "code",
   "execution_count": 18,
   "id": "6d7de25b",
   "metadata": {},
   "outputs": [],
   "source": [
    "df = pd.read_csv(r'FinalEvAdoptionInFranceResults.csv')\n",
    "# for col in df.columns:\n",
    "#     values = df[col].dropna().astype(str)\n",
    "#     split_vals = []\n",
    "#     for val in values:\n",
    "#         split_vals.extend([v.strip() for v in val.split(',') if v.strip()])\n",
    "#     unique_vals = pd.unique(split_vals)\n",
    "#     if len(unique_vals) <= 20:\n",
    "#         print(f\"Colonne: {col}\\nRéponses possibles ({len(unique_vals)}): {unique_vals[:20]}\")\n",
    "#         if len(unique_vals) > 20:\n",
    "#             print(\"... (troncature à 20 valeurs)\")\n",
    "#         print(\"-\" * 60)\n",
    "# print(list(df.columns))"
   ]
  },
  {
   "cell_type": "code",
   "execution_count": 19,
   "id": "7dfeaa68",
   "metadata": {
    "vscode": {
     "languageId": "ruby"
    }
   },
   "outputs": [
    {
     "name": "stderr",
     "output_type": "stream",
     "text": [
      "C:\\Users\\Mango\\AppData\\Local\\Temp\\ipykernel_28968\\2005884872.py:4: FutureWarning: Downcasting object dtype arrays on .fillna, .ffill, .bfill is deprecated and will change in a future version. Call result.infer_objects(copy=False) instead. To opt-in to the future behavior, set `pd.set_option('future.no_silent_downcasting', True)`\n",
      "  df['owns_ev'] = df[\"Quels types de véhicules possédez vous dans votre foyer (plusieurs réponses possibles) \\n (Électrique)\"].fillna(False).astype(bool)\n"
     ]
    }
   ],
   "source": [
    "# Création des colonnes de base pour l'analyse\n",
    "\n",
    "\n",
    "df['owns_ev'] = df[\"Quels types de véhicules possédez vous dans votre foyer (plusieurs réponses possibles) \\n (Électrique)\"].fillna(False).astype(bool)\n",
    "\n",
    "# Région (origine géographique)\n",
    "region_col = [col for col in df.columns if \"Habitez-vous dans\" in col][0]\n",
    "df['region'] = df[region_col]\n",
    "\n",
    "# Tranche d'âge\n",
    "age_col = [col for col in df.columns if \"tranche d’âge\" in col][0]\n",
    "df['age_group'] = df[age_col]\n",
    "\n",
    "# Nombre de véhicules et de personnes (déjà présents mais on s'assure de leur type)\n",
    "df['nb_vehicules'] = pd.to_numeric(df['Combien de véhicules personnels utilisez-vous dans votre foyer ?'], errors='coerce')\n",
    "df['nb_personnes'] = pd.to_numeric(df['Combien êtes-vous dans votre foyer ?'], errors='coerce')\n",
    "\n",
    "vehicle_cols = [\n",
    "    'Quels types de véhicules possédez vous dans votre foyer (plusieurs réponses possibles) \\n (Essence ou Diesel)',\n",
    "    'Quels types de véhicules possédez vous dans votre foyer (plusieurs réponses possibles) \\n (Hybride non rechargeable)',\n",
    "    'Quels types de véhicules possédez vous dans votre foyer (plusieurs réponses possibles) \\n (Hybride rechargeable)',\n",
    "    'Quels types de véhicules possédez vous dans votre foyer (plusieurs réponses possibles) \\n (Électrique)',\n",
    "]\n",
    "driving_exp_col = \"Dans quelle mesure êtes-vous d’accord avec les affirmations suivantes concernant les véhicules électriques ?\\n [Un véhicule électrique correspondrait à mon mode de vie actuel]\"\n",
    "\n",
    "# Recodage échelle 4 points\n",
    "likert_map = {\n",
    "    \"Totalement en désaccord\": 1,\n",
    "    \"Plutôt en désaccord\": 2,\n",
    "    \"Plutôt d'accord\": 3,\n",
    "    \"Tout à fait d'accord\": 4,\n",
    "    \"Tout à fait d’accord\": 4,  # gestion des accents différents\n",
    "}\n",
    "df['intention_adopter'] = df[\"Diriez-vous que : [Ne possédant pas de véhicule 100% électrique, vous vous sentez attiré(e) par cette technologie et envisagez de l'adopter]\"].map(likert_map)\n",
    "repurchase_col = \"Diriez-vous que : [En tant qu'utilisateur d'un véhicule électrique, vous en reprendrez un lors de votre prochain changement de véhicule]\"\n",
    "df[driving_exp_col + \"_score\"] = df[driving_exp_col].map(likert_map)\n",
    "df['repurchase_score'] = df[repurchase_col].map(likert_map)\n",
    "\n",
    "\n",
    "exp_col = \"Avez-vous déjà eu l’occasion de conduire ou de monter dans un véhicule électrique ?\"\n",
    "connaissance_col = \"À quel point diriez-vous que vous connaissez bien les offres actuelles de véhicules électriques et d'infrastructures associées ?\"\n",
    "\n",
    "# Recodage expérience : 1 = Oui, 0 = Non\n",
    "df['exp_ev'] = df[exp_col].map({'Oui, j’ai conduit': 3,'Oui, j’étais passager': 2,'Non, jamais': 1})\n",
    "\n",
    "\n",
    "connaissance_map = {\n",
    "        \"Pas du tout, je ne m’y suis jamais vraiment intéressé\": 1,\n",
    "        \"Un peu, je connais quelques modèles et options\": 2,\n",
    "        \"Assez bien, je vois passer des informations\": 3,\n",
    "        \"Très bien, je suis régulièrement les nouveautés\": 4\n",
    "    }\n",
    "df['connaissance_score'] = df[connaissance_col].map(connaissance_map)\n",
    "\n",
    "aides_col = \"Connaissez-vous des aides financières disponibles pour l’achat d’un véhicule électrique ? (Cochez tout ce que vous connaissez)\\n\"\n",
    "def count_aides(cell):\n",
    "    if pd.isna(cell) or not cell.strip():\n",
    "        return 0\n",
    "    return len([aide.strip() for aide in cell.split(',') if aide.strip() and aide.strip().lower() != \"aucune\"])\n",
    "\n",
    "df['score_aides_connues'] = df[aides_col].apply(count_aides)\n",
    "stopwords = set(STOPWORDS)\n"
   ]
  },
  {
   "cell_type": "markdown",
   "id": "8d1fc03f",
   "metadata": {},
   "source": [
    "## **Peer influence**  \n",
    "  (Number of EV users in the respondent’s social circle, discussions about EVs, encouragement or discouragement from peers, Perceived opinion of peers, Impact of peer exchanges)"
   ]
  },
  {
   "cell_type": "code",
   "execution_count": 20,
   "id": "dba0b2ff",
   "metadata": {},
   "outputs": [
    {
     "name": "stdout",
     "output_type": "stream",
     "text": [
      "\n",
      "Combien de personnes dans votre entourage utilisent un véhicule électrique ?\n",
      "\n",
      "Combien de personnes dans votre entourage utilisent un véhicule électrique ?\\n\n",
      "Peu (1 à 3)             121\n",
      "Aucune                   64\n",
      "Plusieurs (3 à 5)        30\n",
      "Beaucoup (plus de 5)     17\n",
      "Name: count, dtype: int64\n",
      "Intention d'adopter selon ce facteur :\n",
      " Series([], Name: intention_adopter, dtype: float64)\n"
     ]
    },
    {
     "ename": "KeyError",
     "evalue": "'Vous diriez que [Vous avez déjà échangé sur le sujet des véhicules électriques avec votre entourage]_bin'",
     "output_type": "error",
     "traceback": [
      "\u001b[31m---------------------------------------------------------------------------\u001b[39m",
      "\u001b[31mKeyError\u001b[39m                                  Traceback (most recent call last)",
      "\u001b[36mFile \u001b[39m\u001b[32mc:\\Users\\Mango\\AppData\\Local\\Programs\\Python\\Python313\\Lib\\site-packages\\pandas\\core\\indexes\\base.py:3805\u001b[39m, in \u001b[36mIndex.get_loc\u001b[39m\u001b[34m(self, key)\u001b[39m\n\u001b[32m   3804\u001b[39m \u001b[38;5;28;01mtry\u001b[39;00m:\n\u001b[32m-> \u001b[39m\u001b[32m3805\u001b[39m     \u001b[38;5;28;01mreturn\u001b[39;00m \u001b[38;5;28;43mself\u001b[39;49m\u001b[43m.\u001b[49m\u001b[43m_engine\u001b[49m\u001b[43m.\u001b[49m\u001b[43mget_loc\u001b[49m\u001b[43m(\u001b[49m\u001b[43mcasted_key\u001b[49m\u001b[43m)\u001b[49m\n\u001b[32m   3806\u001b[39m \u001b[38;5;28;01mexcept\u001b[39;00m \u001b[38;5;167;01mKeyError\u001b[39;00m \u001b[38;5;28;01mas\u001b[39;00m err:\n",
      "\u001b[36mFile \u001b[39m\u001b[32mindex.pyx:167\u001b[39m, in \u001b[36mpandas._libs.index.IndexEngine.get_loc\u001b[39m\u001b[34m()\u001b[39m\n",
      "\u001b[36mFile \u001b[39m\u001b[32mindex.pyx:196\u001b[39m, in \u001b[36mpandas._libs.index.IndexEngine.get_loc\u001b[39m\u001b[34m()\u001b[39m\n",
      "\u001b[36mFile \u001b[39m\u001b[32mpandas\\\\_libs\\\\hashtable_class_helper.pxi:7081\u001b[39m, in \u001b[36mpandas._libs.hashtable.PyObjectHashTable.get_item\u001b[39m\u001b[34m()\u001b[39m\n",
      "\u001b[36mFile \u001b[39m\u001b[32mpandas\\\\_libs\\\\hashtable_class_helper.pxi:7089\u001b[39m, in \u001b[36mpandas._libs.hashtable.PyObjectHashTable.get_item\u001b[39m\u001b[34m()\u001b[39m\n",
      "\u001b[31mKeyError\u001b[39m: 'Vous diriez que [Vous avez déjà échangé sur le sujet des véhicules électriques avec votre entourage]_bin'",
      "\nThe above exception was the direct cause of the following exception:\n",
      "\u001b[31mKeyError\u001b[39m                                  Traceback (most recent call last)",
      "\u001b[36mCell\u001b[39m\u001b[36m \u001b[39m\u001b[32mIn[20]\u001b[39m\u001b[32m, line 18\u001b[39m\n\u001b[32m     15\u001b[39m \u001b[38;5;28mprint\u001b[39m(\u001b[33m\"\u001b[39m\u001b[33mIntention d\u001b[39m\u001b[33m'\u001b[39m\u001b[33madopter selon ce facteur :\u001b[39m\u001b[38;5;130;01m\\n\u001b[39;00m\u001b[33m\"\u001b[39m, group)\n\u001b[32m     17\u001b[39m \u001b[38;5;28;01mfor\u001b[39;00m col \u001b[38;5;129;01min\u001b[39;00m peer_cols[\u001b[32m1\u001b[39m:]:  \u001b[38;5;66;03m# Sauf la première qui est quantitative\u001b[39;00m\n\u001b[32m---> \u001b[39m\u001b[32m18\u001b[39m     group1 = df[\u001b[43mdf\u001b[49m\u001b[43m[\u001b[49m\u001b[43mcol\u001b[49m\u001b[43m \u001b[49m\u001b[43m+\u001b[49m\u001b[43m \u001b[49m\u001b[33;43m\"\u001b[39;49m\u001b[33;43m_bin\u001b[39;49m\u001b[33;43m\"\u001b[39;49m\u001b[43m]\u001b[49m == \u001b[32m1\u001b[39m][\u001b[33m\"\u001b[39m\u001b[33mintention_adopter\u001b[39m\u001b[33m\"\u001b[39m].dropna()\n\u001b[32m     19\u001b[39m     group0 = df[df[col + \u001b[33m\"\u001b[39m\u001b[33m_bin\u001b[39m\u001b[33m\"\u001b[39m] == \u001b[32m0\u001b[39m][\u001b[33m\"\u001b[39m\u001b[33mintention_adopter\u001b[39m\u001b[33m\"\u001b[39m].dropna()\n\u001b[32m     20\u001b[39m     \u001b[38;5;28mprint\u001b[39m(\u001b[33mf\u001b[39m\u001b[33m\"\u001b[39m\u001b[38;5;132;01m{\u001b[39;00mcol\u001b[38;5;132;01m}\u001b[39;00m\u001b[33m - n1: \u001b[39m\u001b[38;5;132;01m{\u001b[39;00m\u001b[38;5;28mlen\u001b[39m(group1)\u001b[38;5;132;01m}\u001b[39;00m\u001b[33m, n0: \u001b[39m\u001b[38;5;132;01m{\u001b[39;00m\u001b[38;5;28mlen\u001b[39m(group0)\u001b[38;5;132;01m}\u001b[39;00m\u001b[33m\"\u001b[39m)\n",
      "\u001b[36mFile \u001b[39m\u001b[32mc:\\Users\\Mango\\AppData\\Local\\Programs\\Python\\Python313\\Lib\\site-packages\\pandas\\core\\frame.py:4102\u001b[39m, in \u001b[36mDataFrame.__getitem__\u001b[39m\u001b[34m(self, key)\u001b[39m\n\u001b[32m   4100\u001b[39m \u001b[38;5;28;01mif\u001b[39;00m \u001b[38;5;28mself\u001b[39m.columns.nlevels > \u001b[32m1\u001b[39m:\n\u001b[32m   4101\u001b[39m     \u001b[38;5;28;01mreturn\u001b[39;00m \u001b[38;5;28mself\u001b[39m._getitem_multilevel(key)\n\u001b[32m-> \u001b[39m\u001b[32m4102\u001b[39m indexer = \u001b[38;5;28;43mself\u001b[39;49m\u001b[43m.\u001b[49m\u001b[43mcolumns\u001b[49m\u001b[43m.\u001b[49m\u001b[43mget_loc\u001b[49m\u001b[43m(\u001b[49m\u001b[43mkey\u001b[49m\u001b[43m)\u001b[49m\n\u001b[32m   4103\u001b[39m \u001b[38;5;28;01mif\u001b[39;00m is_integer(indexer):\n\u001b[32m   4104\u001b[39m     indexer = [indexer]\n",
      "\u001b[36mFile \u001b[39m\u001b[32mc:\\Users\\Mango\\AppData\\Local\\Programs\\Python\\Python313\\Lib\\site-packages\\pandas\\core\\indexes\\base.py:3812\u001b[39m, in \u001b[36mIndex.get_loc\u001b[39m\u001b[34m(self, key)\u001b[39m\n\u001b[32m   3807\u001b[39m     \u001b[38;5;28;01mif\u001b[39;00m \u001b[38;5;28misinstance\u001b[39m(casted_key, \u001b[38;5;28mslice\u001b[39m) \u001b[38;5;129;01mor\u001b[39;00m (\n\u001b[32m   3808\u001b[39m         \u001b[38;5;28misinstance\u001b[39m(casted_key, abc.Iterable)\n\u001b[32m   3809\u001b[39m         \u001b[38;5;129;01mand\u001b[39;00m \u001b[38;5;28many\u001b[39m(\u001b[38;5;28misinstance\u001b[39m(x, \u001b[38;5;28mslice\u001b[39m) \u001b[38;5;28;01mfor\u001b[39;00m x \u001b[38;5;129;01min\u001b[39;00m casted_key)\n\u001b[32m   3810\u001b[39m     ):\n\u001b[32m   3811\u001b[39m         \u001b[38;5;28;01mraise\u001b[39;00m InvalidIndexError(key)\n\u001b[32m-> \u001b[39m\u001b[32m3812\u001b[39m     \u001b[38;5;28;01mraise\u001b[39;00m \u001b[38;5;167;01mKeyError\u001b[39;00m(key) \u001b[38;5;28;01mfrom\u001b[39;00m\u001b[38;5;250m \u001b[39m\u001b[34;01merr\u001b[39;00m\n\u001b[32m   3813\u001b[39m \u001b[38;5;28;01mexcept\u001b[39;00m \u001b[38;5;167;01mTypeError\u001b[39;00m:\n\u001b[32m   3814\u001b[39m     \u001b[38;5;66;03m# If we have a listlike key, _check_indexing_error will raise\u001b[39;00m\n\u001b[32m   3815\u001b[39m     \u001b[38;5;66;03m#  InvalidIndexError. Otherwise we fall through and re-raise\u001b[39;00m\n\u001b[32m   3816\u001b[39m     \u001b[38;5;66;03m#  the TypeError.\u001b[39;00m\n\u001b[32m   3817\u001b[39m     \u001b[38;5;28mself\u001b[39m._check_indexing_error(key)\n",
      "\u001b[31mKeyError\u001b[39m: 'Vous diriez que [Vous avez déjà échangé sur le sujet des véhicules électriques avec votre entourage]_bin'"
     ]
    }
   ],
   "source": [
    "peer_cols = [\n",
    "    \"Combien de personnes dans votre entourage utilisent un véhicule électrique ?\\n\",\n",
    "    \"Vous diriez que [Vous avez déjà échangé sur le sujet des véhicules électriques avec votre entourage]\",\n",
    "    \"Vous diriez que [l'avis de votre entourage vous à encourager dans l'adoption du véhicule électrique]\",\n",
    "    \"Vous diriez que [L'avis de votre entourage est positif envers le véhicule électrique]\",\n",
    "    \"Vous diriez que [Échanger avec eux vous a rassuré ou motivé sur ce sujet]\"\n",
    "]\n",
    "for col in peer_cols:\n",
    "    print(f\"\\n{col}\")\n",
    "    print(df[col].value_counts(dropna=False))\n",
    "    if df[col].dtype == object:\n",
    "        # Recoder Oui/Non si besoin\n",
    "        df[col + \"_bin\"] = df[col].map({\"Oui\": 1, \"Non\": 0, \"Vaguement\": 0.5, \"Je ne sais pas\": np.nan})\n",
    "        group = df.groupby(col + \"_bin\")[\"intention_adopter\"].mean()\n",
    "        print(\"Intention d'adopter selon ce facteur :\\n\", group)\n",
    "\n",
    "        for col in peer_cols[1:]:  # Sauf la première qui est quantitative\n",
    "            group1 = df[df[col + \"_bin\"] == 1][\"intention_adopter\"].dropna()\n",
    "            group0 = df[df[col + \"_bin\"] == 0][\"intention_adopter\"].dropna()\n",
    "            print(f\"{col} - n1: {len(group1)}, n0: {len(group0)}\")\n",
    "            if len(group1) > 1 and len(group0) > 1:\n",
    "                tstat, pval = ttest_ind(group1, group0, equal_var=False)\n",
    "                print(f\"{col} : t = {tstat:.2f}, p = {pval:.4f}\")\n",
    "                if pval < 0.05:\n",
    "                    print(\"✅ Différence significative entre les groupes.\")\n",
    "                else:\n",
    "                    print(\"❌ Pas de différence significative entre les groupes.\")\n",
    "            else:\n",
    "                print(\"Pas assez de données pour le t-test.\")\n",
    "\n",
    "try:\n",
    "    # Recodage des modalités textuelles en valeurs numériques approximatives\n",
    "    mapping_nb = {\n",
    "        \"Aucune\": 0,\n",
    "        \"Peu (1 à 3)\": 2,\n",
    "        \"Plusieurs (3 à 5)\": 4,\n",
    "        \"Beaucoup (plus de 5)\": 6\n",
    "    }\n",
    "    entourage_nb = df[peer_cols[0]].map(mapping_nb)\n",
    "\n",
    "    corr = entourage_nb.corr(df['intention_adopter'])\n",
    "    print(f\"Corrélation entre nombre d'utilisateurs VE dans l'entourage et intention d'adopter : r = {corr:.2f}\")\n",
    "except Exception as e:\n",
    "    print(\"Erreur de calcul de corrélation :\", e)\n"
   ]
  },
  {
   "cell_type": "markdown",
   "id": "9a3f31d4",
   "metadata": {},
   "source": [
    "\n",
    "\n",
    "**Peer Influence: Summary of Results**\n",
    "\n",
    "**Number of EV users in social circle:**  \n",
    "- Most respondents report having \"Few (1 to 3)\" EV users in their social circle (121), followed by \"None\" (64), \"Several (3 to 5)\" (30), and \"Many (more than 5)\" (17).\n",
    "- There is no clear correlation between the number of EV users in one's social circle and the intention to adopt an EV (correlation coefficient: NaN, likely due to missing or non-numeric data).\n",
    "\n",
    "**Discussion about EVs with peers:**  \n",
    "- The majority have \"Totally agree\" (110) or \"Somewhat agree\" (82) that they have discussed EVs with their peers.\n",
    "- Fewer respondents \"Somewhat disagree\" (28) or \"Totally disagree\" (12).\n",
    "\n",
    "**Encouragement from peers:**  \n",
    "- Most respondents are \"Somewhat disagree\" (78) or \"Somewhat agree\" (54) about being encouraged by their peers to adopt an EV.\n",
    "- Fewer are \"Totally agree\" (12) or \"Totally disagree\" (31).\n",
    "\n",
    "**Perceived positive opinion of peers:**  \n",
    "- Most respondents \"Somewhat agree\" (103) or \"Somewhat disagree\" (93) that their peers have a positive opinion of EVs.\n",
    "- Fewer \"Totally agree\" (23) or \"Totally disagree\" (13).\n",
    "\n",
    "**Feeling reassured or motivated by peer exchanges:**  \n",
    "- Most are \"Somewhat disagree\" (83) or \"Somewhat agree\" (57) that exchanges with peers reassured or motivated them.\n",
    "- Fewer \"Totally agree\" (19) or \"Totally disagree\" (33).\n",
    "\n",
    "**Intention to adopt by peer factors:**  \n",
    "- For all peer influence factors, the mean intention to adopt is not reported (empty series), suggesting either missing data or no significant difference between groups.\n",
    "\n",
    "**Conclusion:**  \n",
    "While most respondents have at least some exposure to EV users and discussions in their social circle, there is no strong evidence from this data that peer influence (in terms of number of users, encouragement, or positive opinion) is directly associated with a higher intention to adopt an EV. This may be due to missing data or a lack of strong effect in this sample."
   ]
  },
  {
   "cell_type": "code",
   "execution_count": null,
   "id": "2bcded1a",
   "metadata": {},
   "outputs": [
    {
     "name": "stdout",
     "output_type": "stream",
     "text": [
      "Vous diriez que [L'avis de votre entourage est positif envers le véhicule électrique] - n1: 7, n0: 8, unique1: [3. 2. 1.], unique0: [1. 3.]\n",
      "Var group1: 0.6190476190476191, Var group0: 0.5\n",
      "Vous diriez que [L'avis de votre entourage est positif envers le véhicule électrique] : t = 3.03, p = 0.0102\n",
      "Vous diriez que [Échanger avec eux vous a rassuré ou motivé sur ce sujet] - n1: 4, n0: 21, unique1: [3. 1.], unique0: [1. 2. 3.]\n",
      "Var group1: 1.0, Var group0: 0.2285714285714285\n",
      "Vous diriez que [Échanger avec eux vous a rassuré ou motivé sur ce sujet] : t = 2.66, p = 0.0700\n"
     ]
    }
   ],
   "source": [
    "for col in [\"Vous diriez que [L'avis de votre entourage est positif envers le véhicule électrique]\", \"Vous diriez que [Échanger avec eux vous a rassuré ou motivé sur ce sujet]\"]:\n",
    "    # Mappe les 4 options d'accord/désaccord sur une échelle 0-3\n",
    "    map4 = {\n",
    "        \"Totalement en désaccord\": 0,\n",
    "        \"Plutôt en désaccord\": 1,\n",
    "        \"Plutôt d'accord\": 2,\n",
    "        \"Totalement d'accord\": 3\n",
    "    }\n",
    "    df[col + \"_bin\"] = df[col].map(map4)\n",
    "    group1 = df[df[col + \"_bin\"] == 3][\"intention_adopter\"].dropna()\n",
    "    group0 = df[df[col + \"_bin\"] == 0][\"intention_adopter\"].dropna()\n",
    "    print(f\"{col} - n1: {len(group1)}, n0: {len(group0)}, unique1: {group1.unique()}, unique0: {group0.unique()}\")\n",
    "    print(f\"Var group1: {group1.var()}, Var group0: {group0.var()}\")\n",
    "    if len(group1) > 1 and len(group0) > 1:\n",
    "        tstat, pval = ttest_ind(group1, group0, equal_var=False)\n",
    "        print(f\"{col} : t = {tstat:.2f}, p = {pval:.4f}\")\n",
    "    else:\n",
    "        print(f\"{col} : Pas assez de données pour le t-test.\")"
   ]
  },
  {
   "cell_type": "markdown",
   "id": "5993fcc5",
   "metadata": {},
   "source": [
    "\n",
    "### **Peer Influence: Statistical Test Results**\n",
    "\n",
    "#### **Perceived Positive Opinion of Peers**\n",
    "- **Group sizes:**  \n",
    "  - \"Totally agree\" (score 3): n = 7  \n",
    "  - \"Totally disagree\" (score 0): n = 8  \n",
    "- **Adoption intent values (unique):**  \n",
    "  - \"Totally agree\": [3.0, 2.0, 1.0]  \n",
    "  - \"Totally disagree\": [1.0, 3.0]\n",
    "- **Variance:**  \n",
    "  - \"Totally agree\": 0.62  \n",
    "  - \"Totally disagree\": 0.50  \n",
    "- **t-test:**  \n",
    "  - t = 3.03, p = 0.0102  \n",
    "  - **Interpretation:** There is a statistically significant difference in adoption intent between those who totally agree and those who totally disagree that their peers have a positive opinion of EVs.\n",
    "\n",
    "\n",
    "\n",
    "#### **Feeling Reassured or Motivated by Peer Exchanges**\n",
    "- **Group sizes:**  \n",
    "  - \"Totally agree\" (score 3): n = 4  \n",
    "  - \"Totally disagree\" (score 0): n = 21  \n",
    "- **Adoption intent values (unique):**  \n",
    "  - \"Totally agree\": [3.0, 1.0]  \n",
    "  - \"Totally disagree\": [1.0, 2.0, 3.0]\n",
    "- **Variance:**  \n",
    "  - \"Totally agree\": 1.00  \n",
    "  - \"Totally disagree\": 0.23  \n",
    "- **t-test:**  \n",
    "  - t = 2.66, p = 0.0700  \n",
    "  - **Interpretation:** The difference in adoption intent between these groups is not statistically significant at the 0.05 level, but the result suggests a possible trend.\n",
    "\n",
    "\n",
    "\n",
    "**Summary:**  \n",
    "A significantly higher intention to adopt an EV is observed among respondents who perceive their peers as having a positive opinion of EVs. Feeling reassured or motivated by peer exchanges shows a trend toward higher adoption intent, but this result is not statistically significant, possibly due to small group sizes."
   ]
  },
  {
   "cell_type": "markdown",
   "id": "a14e659d",
   "metadata": {},
   "source": [
    "## **Clarity and trust in information sources**  \n",
    "  (Perceived clarity and reliability of information about EVs, Main information sources)"
   ]
  },
  {
   "cell_type": "code",
   "execution_count": null,
   "id": "5dd133b9",
   "metadata": {},
   "outputs": [
    {
     "name": "stdout",
     "output_type": "stream",
     "text": [
      "Intention d'adopter selon la clarté perçue des sources :\n",
      " clarity_bin\n",
      "0.0    2.433735\n",
      "1.0    2.263158\n",
      "Name: intention_adopter, dtype: float64\n"
     ]
    }
   ],
   "source": [
    "clarity_col = \"Ces sources vous paraissent-elles claires et fiables ?\\n\"\n",
    "df[\"clarity_bin\"] = df[clarity_col].map({\"Oui, j’ai facilement trouvé ce que je cherchais\": 1, \"Pas toujours, il faut croiser les infos et c'était plutôt complexe de comprendre les offres et véhicules disponible sur le marché\": 0})\n",
    "group = df.groupby(\"clarity_bin\")[\"intention_adopter\"].mean()\n",
    "print(\"Intention d'adopter selon la clarté perçue des sources :\\n\", group)"
   ]
  },
  {
   "cell_type": "markdown",
   "id": "4bf05952",
   "metadata": {},
   "source": [
    "\n",
    "### **Adoption Intent by Perceived Clarity of Information Sources**\n",
    "\n",
    "| Perceived Clarity of Sources                | Mean Adoption Intent |\n",
    "|---------------------------------------------|---------------------|\n",
    "| Not always clear/complex (0)                | 2.43                |\n",
    "| Clear and easy to find (1)                  | 2.26                |\n",
    "\n",
    "- **Interpretation:**  \n",
    "  Respondents who found information sources \"not always clear\" or complex reported a slightly higher mean intention to adopt an EV (2.43) compared to those who found sources clear and easy to find (2.26). This difference is small and may not be statistically significant, but it suggests that clarity of information alone does not strongly predict adoption intent in this sample."
   ]
  },
  {
   "cell_type": "code",
   "execution_count": null,
   "id": "d11d78ef",
   "metadata": {},
   "outputs": [
    {
     "name": "stdout",
     "output_type": "stream",
     "text": [
      "Sources d'information les plus utilisées :\n",
      " Où avez-vous cherché (ou chercheriez-vous) des informations sur les véhicules électriques ?\\n\n",
      "Entourage (amis                               125\n",
      "collègues…)                                   125\n",
      "Sites des constructeurs / Concessionnaires    111\n",
      "Médias généralistes / spécialisés             105\n",
      "Comparateurs de véhicules                      74\n",
      "Forums / avis en ligne                         64\n",
      "Réseaux sociaux                                42\n",
      "Salons ou événements                           23\n",
      "Non                                             2\n",
      "YouTube / Influenceurs automobile               2\n",
      "Name: count, dtype: int64\n"
     ]
    }
   ],
   "source": [
    "info_col = \"Où avez-vous cherché (ou chercheriez-vous) des informations sur les véhicules électriques ?\\n\"\n",
    "sources = df[info_col].dropna().str.split(',').explode().str.strip()\n",
    "source_counts = sources.value_counts()\n",
    "print(\"Sources d'information les plus utilisées :\\n\", source_counts.head(10))"
   ]
  },
  {
   "cell_type": "markdown",
   "id": "46d378c2",
   "metadata": {},
   "source": [
    "### **Most Used Information Sources**\n",
    "\n",
    "| Information Source                        | Count |\n",
    "|-------------------------------------------|-------|\n",
    "| Social circle (friends, colleagues, etc.) | 125   |\n",
    "| Manufacturer/dealer websites              | 111   |\n",
    "| General/specialized media                 | 105   |\n",
    "| Vehicle comparison sites                  | 74    |\n",
    "| Forums / online reviews                   | 64    |\n",
    "| Social networks                           | 42    |\n",
    "| Trade shows or events                     | 23    |\n",
    "| None                                      | 2     |\n",
    "| YouTube / Automotive influencers          | 2     |\n",
    "\n",
    "- **Interpretation:**  \n",
    "  The most frequently cited sources are the respondent’s social circle (friends, colleagues), followed by manufacturer or dealer websites and general or specialized media. Online comparison tools, forums, and social networks are also commonly used, while YouTube/influencers and \"none\" are rarely mentioned. This highlights the importance of both personal networks and digital media in shaping EV information acquisition."
   ]
  },
  {
   "cell_type": "markdown",
   "id": "7b41c635",
   "metadata": {},
   "source": [
    "## **Brand communication**  \n",
    "  (Brands perceived as offering clear and well-communicated EV options)"
   ]
  },
  {
   "cell_type": "code",
   "execution_count": null,
   "id": "60fac434",
   "metadata": {},
   "outputs": [
    {
     "name": "stdout",
     "output_type": "stream",
     "text": [
      "Marques les plus citées :\n",
      " Quelles marques vous semblent proposer une offre électrique claire et bien communiquée ?\\n\n",
      "Tesla         97\n",
      "Renault       76\n",
      "Peugeot       47\n",
      "BYD           41\n",
      "Aucune        32\n",
      "BMW           25\n",
      "Kia           25\n",
      "Volkswagen    24\n",
      "Hyundai       24\n",
      "Mercedes      20\n",
      "Name: count, dtype: int64\n"
     ]
    }
   ],
   "source": [
    "brand_col = \"Quelles marques vous semblent proposer une offre électrique claire et bien communiquée ?\\n\"\n",
    "brands = df[brand_col].dropna().str.split(',').explode().str.strip()\n",
    "brand_counts = brands.value_counts()\n",
    "print(\"Marques les plus citées :\\n\", brand_counts.head(10))"
   ]
  },
  {
   "cell_type": "markdown",
   "id": "6114ad67",
   "metadata": {},
   "source": [
    "## **Sociodemographic effects**  \n",
    "  (Influence of age, professional status, and geographic location on adoption intent)"
   ]
  },
  {
   "cell_type": "code",
   "execution_count": null,
   "id": "ca0cef00",
   "metadata": {},
   "outputs": [
    {
     "name": "stdout",
     "output_type": "stream",
     "text": [
      "\n",
      "Effet de Dans quelle tranche d’âge vous situez-vous ?\n",
      " sur l'intention d'adopter :\n",
      "ANOVA: F = 1.64, p = 0.1396\n",
      "❌ Pas de différence significative de l'intention d'adopter selon cette variable.\n",
      "\n",
      "Effet de Habitez-vous dans : sur l'intention d'adopter :\n",
      "ANOVA: F = 3.53, p = 0.0167\n",
      "✅ Il existe une différence significative de l'intention d'adopter selon cette variable.\n",
      "  Moyennes par groupe : [np.float64(2.4464285714285716), np.float64(2.2142857142857144), np.float64(1.84), np.float64(2.473684210526316)]\n",
      "\n",
      "Effet de Quelle est votre situation professionnelle actuelle ?\n",
      " sur l'intention d'adopter :\n",
      "ANOVA: F = 0.82, p = 0.5176\n",
      "❌ Pas de différence significative de l'intention d'adopter selon cette variable.\n",
      "H3 - Clarté perçue : t = -0.74, p = 0.4658\n",
      "❌ Pas de différence significative d'intention d'adopter selon la clarté perçue des sources.\n"
     ]
    }
   ],
   "source": [
    "\n",
    "\n",
    "# H2 : ANOVA ou t-test selon l'âge, la CSP, la zone géographique\n",
    "for var in [\"Dans quelle tranche d’âge vous situez-vous ?\\n\", \"Habitez-vous dans :\", \"Quelle est votre situation professionnelle actuelle ?\\n\"]:\n",
    "    print(f\"\\nEffet de {var} sur l'intention d'adopter :\")\n",
    "    groups = [g[\"intention_adopter\"].dropna() for _, g in df.groupby(var) if g[\"intention_adopter\"].notna().sum() > 1]\n",
    "    if len(groups) >= 2:\n",
    "        fval, pval = f_oneway(*groups)\n",
    "        print(f\"ANOVA: F = {fval:.2f}, p = {pval:.4f}\")\n",
    "        # Analyse automatique\n",
    "        if pval < 0.05:\n",
    "            print(\"✅ Il existe une différence significative de l'intention d'adopter selon cette variable.\")\n",
    "            means = [g.mean() for g in groups]\n",
    "            print(f\"  Moyennes par groupe : {means}\")\n",
    "        else:\n",
    "            print(\"❌ Pas de différence significative de l'intention d'adopter selon cette variable.\")\n",
    "    else:\n",
    "        print(\"Pas assez de groupes pour faire une ANOVA valide.\")\n",
    "\n",
    "# H3 : t-test clarté perçue vs intention\n",
    "group1 = df[df[\"clarity_bin\"] == 1][\"intention_adopter\"].dropna()\n",
    "group0 = df[df[\"clarity_bin\"] == 0][\"intention_adopter\"].dropna()\n",
    "tstat, pval = ttest_ind(group1, group0, equal_var=False)\n",
    "print(f\"H3 - Clarté perçue : t = {tstat:.2f}, p = {pval:.4f}\")\n",
    "# Analyse automatique\n",
    "if pval < 0.05:\n",
    "    print(\"✅ L'intention d'adopter est significativement plus élevée chez ceux qui trouvent les sources claires et fiables.\")\n",
    "    print(f\"  Moyenne (sources claires) : {group1.mean():.2f}\")\n",
    "    print(f\"  Moyenne (sources peu claires) : {group0.mean():.2f}\")\n",
    "else:\n",
    "    print(\"❌ Pas de différence significative d'intention d'adopter selon la clarté perçue des sources.\")"
   ]
  },
  {
   "cell_type": "markdown",
   "id": "77b101c7",
   "metadata": {},
   "source": [
    " **Sociodemographic Effects on Adoption Intent**\n",
    "\n",
    "| Variable                                 | Test   | Statistic (F/t) | p-value  | Significant? | Group Means (if significant)                |\n",
    "|-------------------------------------------|--------|-----------------|----------|--------------|---------------------------------------------|\n",
    "| Age group                                | ANOVA  | F = 1.64        | 0.1396   | ❌ No         | —                                           |\n",
    "| Geographic location                      | ANOVA  | F = 3.53        | 0.0167   | ✅ Yes        | 2.45, 2.21, 1.84, 2.47                      |\n",
    "| Professional status                      | ANOVA  | F = 0.82        | 0.5176   | ❌ No         | —                                           |\n",
    "| Perceived clarity of information sources | t-test | t = -0.74       | 0.4658   | ❌ No         | —                                           |\n",
    "\n",
    "- **Interpretation:**  \n",
    "  - Only geographic location shows a statistically significant effect on intention to adopt an EV (p = 0.0167), with mean adoption intent varying by region.\n",
    "  - Age group, professional status, and perceived clarity of information sources do **not** show significant effects on adoption intent in this sample."
   ]
  },
  {
   "cell_type": "markdown",
   "id": "f931c74e",
   "metadata": {},
   "source": [
    "## **multivariate (cross) analyses** "
   ]
  }
 ],
 "metadata": {
  "kernelspec": {
   "display_name": "Python 3",
   "language": "python",
   "name": "python3"
  },
  "language_info": {
   "codemirror_mode": {
    "name": "ipython",
    "version": 3
   },
   "file_extension": ".py",
   "mimetype": "text/x-python",
   "name": "python",
   "nbconvert_exporter": "python",
   "pygments_lexer": "ipython3",
   "version": "3.13.1"
  }
 },
 "nbformat": 4,
 "nbformat_minor": 5
}
